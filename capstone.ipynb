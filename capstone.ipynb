{
 "cells": [
  {
   "cell_type": "markdown",
   "metadata": {
    "collapsed": true
   },
   "source": [
    "# Applied Data Science Capstone on Coursera\n",
    "\n",
    "This notebook is used for the Coursera's Capstone Project course on Applied Data Science.\n"
   ]
  },
  {
   "cell_type": "code",
   "execution_count": 6,
   "metadata": {},
   "outputs": [
    {
     "name": "stdout",
     "output_type": "stream",
     "text": [
      "Hello Capstone Project Course\n"
     ]
    }
   ],
   "source": [
    "import pandas as pd\n",
    "import numpy as np\n",
    "print(\"Hello Capstone Project Course\")"
   ]
  },
  {
   "cell_type": "markdown",
   "metadata": {},
   "source": [
    " # Clustering Toronto\n",
    " ## First Part: Scraping Toronto Neighborhoods\n",
    " \n",
    " First we install beautifulsoup and requests."
   ]
  },
  {
   "cell_type": "code",
   "execution_count": 7,
   "metadata": {},
   "outputs": [
    {
     "name": "stdout",
     "output_type": "stream",
     "text": [
      "Collecting package metadata (current_repodata.json): done\n",
      "Solving environment: done\n",
      "\n",
      "## Package Plan ##\n",
      "\n",
      "  environment location: /home/vininim/anaconda3\n",
      "\n",
      "  added / updated specs:\n",
      "    - beautifulsoup4\n",
      "\n",
      "\n",
      "The following packages will be downloaded:\n",
      "\n",
      "    package                    |            build\n",
      "    ---------------------------|-----------------\n",
      "    conda-4.9.2                |   py37h06a4308_0         2.9 MB\n",
      "    ------------------------------------------------------------\n",
      "                                           Total:         2.9 MB\n",
      "\n",
      "The following packages will be SUPERSEDED by a higher-priority channel:\n",
      "\n",
      "  conda              conda-forge::conda-4.9.2-py37h89c1867~ --> pkgs/main::conda-4.9.2-py37h06a4308_0\n",
      "\n",
      "\n",
      "\n",
      "Downloading and Extracting Packages\n",
      "conda-4.9.2          | 2.9 MB    | ##################################### | 100% \n",
      "Preparing transaction: done\n",
      "Verifying transaction: done\n",
      "Executing transaction: done\n",
      "Collecting package metadata (current_repodata.json): done\n",
      "Solving environment: done\n",
      "\n",
      "# All requested packages already installed.\n",
      "\n"
     ]
    }
   ],
   "source": [
    "!conda install beautifulsoup4 --yes\n",
    "!conda install requests --yes"
   ]
  },
  {
   "cell_type": "markdown",
   "metadata": {},
   "source": [
    "Then we scrape wikipedia page."
   ]
  },
  {
   "cell_type": "code",
   "execution_count": 8,
   "metadata": {},
   "outputs": [
    {
     "name": "stdout",
     "output_type": "stream",
     "text": [
      "(103, 3)\n"
     ]
    }
   ],
   "source": [
    "import requests\n",
    "from bs4 import BeautifulSoup\n",
    "url = \"https://en.wikipedia.org/wiki/List_of_postal_codes_of_Canada:_M\"\n",
    "r = requests.get(url)\n",
    "soup = BeautifulSoup(r.text)\n",
    "#Assuming the page stay the same, the first table is the one we want\n",
    "table = soup.find_all('table')[0]\n",
    "rows = table.find_all('tr')\n",
    "\n",
    "df = pd.DataFrame(columns=['PostalCode', 'Borough', 'Neighborhood'])\n",
    "# skip first row\n",
    "for i in range(1,len(rows)):\n",
    "    tds = rows[i].find_all('td')\n",
    "    code = tds[0].contents[0].strip()\n",
    "    borough = tds[1].contents[0].strip()\n",
    "    neighborhood = tds[2].contents[0].strip()\n",
    "    \n",
    "    if borough == \"Not assigned\":\n",
    "        continue\n",
    "    if neighborhood == \"Not assigned\":\n",
    "        neighborhood = borough\n",
    "    newrow = pd.DataFrame({'PostalCode': [code], 'Borough': [borough], 'Neighborhood': [neighborhood]})\n",
    "    idx = df.loc[df.isin([code]).any(axis=1)].index.tolist()\n",
    "    if idx:\n",
    "        df.iloc(idx[0])['Neighborhood'] = df.iloc(idx[0])['Neighborhood'] + \",\" + neighborhood\n",
    "    else:\n",
    "        df = df.append(newrow)\n",
    "\n",
    "print(df.shape)"
   ]
  },
  {
   "cell_type": "markdown",
   "metadata": {},
   "source": [
    "## Second Part: Getting coordinates for neighborhoods"
   ]
  },
  {
   "cell_type": "code",
   "execution_count": 9,
   "metadata": {},
   "outputs": [
    {
     "name": "stdout",
     "output_type": "stream",
     "text": [
      "--2020-12-07 16:51:31--  https://cocl.us/Geospatial_data\n",
      "Resolving cocl.us (cocl.us)... 169.63.96.194, 169.63.96.176\n",
      "Connecting to cocl.us (cocl.us)|169.63.96.194|:443... connected.\n",
      "HTTP request sent, awaiting response... 301 Moved Permanently\n",
      "Location: https://ibm.box.com/shared/static/9afzr83pps4pwf2smjjcf1y5mvgb18rr.csv [following]\n",
      "--2020-12-07 16:51:33--  https://ibm.box.com/shared/static/9afzr83pps4pwf2smjjcf1y5mvgb18rr.csv\n",
      "Resolving ibm.box.com (ibm.box.com)... 107.152.26.197\n",
      "Connecting to ibm.box.com (ibm.box.com)|107.152.26.197|:443... connected.\n",
      "HTTP request sent, awaiting response... 301 Moved Permanently\n",
      "Location: /public/static/9afzr83pps4pwf2smjjcf1y5mvgb18rr.csv [following]\n",
      "--2020-12-07 16:51:33--  https://ibm.box.com/public/static/9afzr83pps4pwf2smjjcf1y5mvgb18rr.csv\n",
      "Reusing existing connection to ibm.box.com:443.\n",
      "HTTP request sent, awaiting response... 301 Moved Permanently\n",
      "Location: https://ibm.ent.box.com/public/static/9afzr83pps4pwf2smjjcf1y5mvgb18rr.csv [following]\n",
      "--2020-12-07 16:51:34--  https://ibm.ent.box.com/public/static/9afzr83pps4pwf2smjjcf1y5mvgb18rr.csv\n",
      "Resolving ibm.ent.box.com (ibm.ent.box.com)... 107.152.26.201\n",
      "Connecting to ibm.ent.box.com (ibm.ent.box.com)|107.152.26.201|:443... connected.\n",
      "HTTP request sent, awaiting response... 302 Found\n",
      "Location: https://public.boxcloud.com/d/1/b1!qX7XBu0aAmUXV1to3DsZM4Cb18mZmmeMhh-6YYIcGorneSYP01Bfkzg5TdC44hIjLBBa_NahMk2HtXbIGNQeRACgHbSnclJYaJTOtnC8K9xAoKibjyth1OyRRugKfqcD5-q7YAWA6WjvVo0wSJiywCydtsETHeOk87UvTX0A0ExY9dELCCZWBzg5x-vupWRj8fgMejtUM7t6RRbVPeTkEhcYJzlDxIR4LdzUoo_ARS63i2wrSHdzfmBiXWlq9QNhUNo5Lfsfm4O5sn-135yZ0zKlVTLG3FobKDVGEmebY9DkAEr5BkZL7gq0BoKf6D4826wkI0778EkNVE-2YYqfbptl6Lo_c67tpL_H_22Y8tb8fl8aXp0ttmUGLLH8tgDx2_sxEMRtEur0TJ1AvdIUIK75HScFo4mjvHJ5IXEdI2v7Z07YKh2hpEGGfUhDKm9tm6VsVXsVmQQBSCBQ6lTF5k93pPJyuMtuFEzYmi9pP-x5xht-tuk2Dfoy4gpAAEv66TMaJsNklNSgRrMiCTVWPcaaz3aBfzLwz2pkJhPTidZzQSRFtlz312jDSZ54AQLJaVoswnNK_fkIEXZNl_XyCAQaD4dl7phTKeyWRc9mtkcjN9qgzALd1omXd6lP2Nq6SufqAIGXgOhCeqknGjC_hRDPgrMyqnIRJEHojcTJ01i4ysSPX6iaFy45juIQS-pGfiZaG--d4MBj0Dv5FuJ_ZgPHfbb3AEsI9icCsPuzSatDcNsvUH9Ks66ixo7lZI8Qn8GA499CBC4liBuGuqsSLQO-6lwY2q78HNHAmocfvkNJ_Bx1Wpcix0efSqmgLelnQ7F8MrFAX263-VPMzLjbRKfNaAqXzqaThUzvx7YUw_xlPOoNNvKlQERUx8ZNDP9aV1NUpSFdz1uEIdrYR-jGPwQSJmGfbAGN897b0Wifnc8IezEHyNO_kFv-8ejEsjN3ylzP_XZv8KYPxSApnHKTVn66trFdikxgNt_p6Tj2SI54_TFcL2Z40RERHml5L0HVtpXW_yL2wHA3gIm3rOFO9Vm-KZ3AqnPd4KN89M95ez3vKxuIRualo-H2jvLybFnX8CZVNJcE8k5QkPfyUMKJlfS4eL9Sm6lWs64h3H8IkCLVwcXhW0H02RGuWlZIUrIXbXgFHPLRMyedIiy9uclV2YrgAgxlipN3J3xb3iCnsci72YCgJbZRa9id__9dhu9fkP9rw-bZ6rS8Mqju-3IKL-AozMRVleV2LDjR0xaYqzUqgRVbwG4IlePTCD8XaFfea5Dj8F49UCv-R011j4_i62uSUyGzoAlrmkpgCOiYky5P4NgkMPjDo6lzNdwvJi96sANmSvXVErBDbNtxcRCJRtweDTDEqQbhEPE0Zyfr_SK_a3nhhZsnmfmE2i6vS6lhOwBkgQl9FRO2cYZhyndfgvXwHdSV4-Dam7DvZj6_BHJkPg../download [following]\n",
      "--2020-12-07 16:51:35--  https://public.boxcloud.com/d/1/b1!qX7XBu0aAmUXV1to3DsZM4Cb18mZmmeMhh-6YYIcGorneSYP01Bfkzg5TdC44hIjLBBa_NahMk2HtXbIGNQeRACgHbSnclJYaJTOtnC8K9xAoKibjyth1OyRRugKfqcD5-q7YAWA6WjvVo0wSJiywCydtsETHeOk87UvTX0A0ExY9dELCCZWBzg5x-vupWRj8fgMejtUM7t6RRbVPeTkEhcYJzlDxIR4LdzUoo_ARS63i2wrSHdzfmBiXWlq9QNhUNo5Lfsfm4O5sn-135yZ0zKlVTLG3FobKDVGEmebY9DkAEr5BkZL7gq0BoKf6D4826wkI0778EkNVE-2YYqfbptl6Lo_c67tpL_H_22Y8tb8fl8aXp0ttmUGLLH8tgDx2_sxEMRtEur0TJ1AvdIUIK75HScFo4mjvHJ5IXEdI2v7Z07YKh2hpEGGfUhDKm9tm6VsVXsVmQQBSCBQ6lTF5k93pPJyuMtuFEzYmi9pP-x5xht-tuk2Dfoy4gpAAEv66TMaJsNklNSgRrMiCTVWPcaaz3aBfzLwz2pkJhPTidZzQSRFtlz312jDSZ54AQLJaVoswnNK_fkIEXZNl_XyCAQaD4dl7phTKeyWRc9mtkcjN9qgzALd1omXd6lP2Nq6SufqAIGXgOhCeqknGjC_hRDPgrMyqnIRJEHojcTJ01i4ysSPX6iaFy45juIQS-pGfiZaG--d4MBj0Dv5FuJ_ZgPHfbb3AEsI9icCsPuzSatDcNsvUH9Ks66ixo7lZI8Qn8GA499CBC4liBuGuqsSLQO-6lwY2q78HNHAmocfvkNJ_Bx1Wpcix0efSqmgLelnQ7F8MrFAX263-VPMzLjbRKfNaAqXzqaThUzvx7YUw_xlPOoNNvKlQERUx8ZNDP9aV1NUpSFdz1uEIdrYR-jGPwQSJmGfbAGN897b0Wifnc8IezEHyNO_kFv-8ejEsjN3ylzP_XZv8KYPxSApnHKTVn66trFdikxgNt_p6Tj2SI54_TFcL2Z40RERHml5L0HVtpXW_yL2wHA3gIm3rOFO9Vm-KZ3AqnPd4KN89M95ez3vKxuIRualo-H2jvLybFnX8CZVNJcE8k5QkPfyUMKJlfS4eL9Sm6lWs64h3H8IkCLVwcXhW0H02RGuWlZIUrIXbXgFHPLRMyedIiy9uclV2YrgAgxlipN3J3xb3iCnsci72YCgJbZRa9id__9dhu9fkP9rw-bZ6rS8Mqju-3IKL-AozMRVleV2LDjR0xaYqzUqgRVbwG4IlePTCD8XaFfea5Dj8F49UCv-R011j4_i62uSUyGzoAlrmkpgCOiYky5P4NgkMPjDo6lzNdwvJi96sANmSvXVErBDbNtxcRCJRtweDTDEqQbhEPE0Zyfr_SK_a3nhhZsnmfmE2i6vS6lhOwBkgQl9FRO2cYZhyndfgvXwHdSV4-Dam7DvZj6_BHJkPg../download\n",
      "Resolving public.boxcloud.com (public.boxcloud.com)... 107.152.26.200\n",
      "Connecting to public.boxcloud.com (public.boxcloud.com)|107.152.26.200|:443... connected.\n",
      "HTTP request sent, awaiting response... 200 OK\n",
      "Length: 2891 (2,8K) [text/csv]\n",
      "Saving to: ‘Geospatial_data.csv’\n",
      "\n",
      "Geospatial_data.csv 100%[===================>]   2,82K  --.-KB/s    in 0s      \n",
      "\n",
      "2020-12-07 16:51:35 (197 MB/s) - ‘Geospatial_data.csv’ saved [2891/2891]\n",
      "\n"
     ]
    }
   ],
   "source": [
    "!wget -O Geospatial_data.csv https://cocl.us/Geospatial_data\n"
   ]
  },
  {
   "cell_type": "code",
   "execution_count": 10,
   "metadata": {},
   "outputs": [
    {
     "data": {
      "text/html": [
       "<div>\n",
       "<style scoped>\n",
       "    .dataframe tbody tr th:only-of-type {\n",
       "        vertical-align: middle;\n",
       "    }\n",
       "\n",
       "    .dataframe tbody tr th {\n",
       "        vertical-align: top;\n",
       "    }\n",
       "\n",
       "    .dataframe thead th {\n",
       "        text-align: right;\n",
       "    }\n",
       "</style>\n",
       "<table border=\"1\" class=\"dataframe\">\n",
       "  <thead>\n",
       "    <tr style=\"text-align: right;\">\n",
       "      <th></th>\n",
       "      <th>PostalCode</th>\n",
       "      <th>Borough</th>\n",
       "      <th>Neighborhood</th>\n",
       "      <th>Latitude</th>\n",
       "      <th>Longitude</th>\n",
       "    </tr>\n",
       "  </thead>\n",
       "  <tbody>\n",
       "    <tr>\n",
       "      <th>0</th>\n",
       "      <td>M3A</td>\n",
       "      <td>North York</td>\n",
       "      <td>Parkwoods</td>\n",
       "      <td>43.753259</td>\n",
       "      <td>-79.329656</td>\n",
       "    </tr>\n",
       "    <tr>\n",
       "      <th>1</th>\n",
       "      <td>M4A</td>\n",
       "      <td>North York</td>\n",
       "      <td>Victoria Village</td>\n",
       "      <td>43.725882</td>\n",
       "      <td>-79.315572</td>\n",
       "    </tr>\n",
       "    <tr>\n",
       "      <th>2</th>\n",
       "      <td>M5A</td>\n",
       "      <td>Downtown Toronto</td>\n",
       "      <td>Regent Park, Harbourfront</td>\n",
       "      <td>43.654260</td>\n",
       "      <td>-79.360636</td>\n",
       "    </tr>\n",
       "    <tr>\n",
       "      <th>3</th>\n",
       "      <td>M6A</td>\n",
       "      <td>North York</td>\n",
       "      <td>Lawrence Manor, Lawrence Heights</td>\n",
       "      <td>43.718518</td>\n",
       "      <td>-79.464763</td>\n",
       "    </tr>\n",
       "    <tr>\n",
       "      <th>4</th>\n",
       "      <td>M7A</td>\n",
       "      <td>Downtown Toronto</td>\n",
       "      <td>Queen's Park, Ontario Provincial Government</td>\n",
       "      <td>43.662301</td>\n",
       "      <td>-79.389494</td>\n",
       "    </tr>\n",
       "  </tbody>\n",
       "</table>\n",
       "</div>"
      ],
      "text/plain": [
       "  PostalCode           Borough                                 Neighborhood  \\\n",
       "0        M3A        North York                                    Parkwoods   \n",
       "1        M4A        North York                             Victoria Village   \n",
       "2        M5A  Downtown Toronto                    Regent Park, Harbourfront   \n",
       "3        M6A        North York             Lawrence Manor, Lawrence Heights   \n",
       "4        M7A  Downtown Toronto  Queen's Park, Ontario Provincial Government   \n",
       "\n",
       "    Latitude  Longitude  \n",
       "0  43.753259 -79.329656  \n",
       "1  43.725882 -79.315572  \n",
       "2  43.654260 -79.360636  \n",
       "3  43.718518 -79.464763  \n",
       "4  43.662301 -79.389494  "
      ]
     },
     "execution_count": 10,
     "metadata": {},
     "output_type": "execute_result"
    }
   ],
   "source": [
    "coord_df = pd.read_csv(\"Geospatial_data.csv\")\n",
    "coord_df.rename(columns={\"Postal Code\": \"PostalCode\"},inplace=True)\n",
    "df_result = pd.merge(df,coord_df,on=\"PostalCode\")\n",
    "df_result.head()"
   ]
  },
  {
   "cell_type": "markdown",
   "metadata": {},
   "source": [
    "## Third part: getting venues in neighbourhoods"
   ]
  },
  {
   "cell_type": "code",
   "execution_count": 11,
   "metadata": {},
   "outputs": [],
   "source": [
    "# @hidden_cell\n",
    "\n",
    "CLIENT_ID = \"ZRVP1PDJNJUWZRXHCJCN2C0SZYMDJYHZAYMOKXLZY4CZPKYU\"\n",
    "CLIENT_SECRET = \"ZZYL0ZTQZF4CWEVFHFTZS2YLLN51AXHKP5VTIGO5MJA2AUFH\"\n",
    "VERSION = '20180605'\n"
   ]
  },
  {
   "cell_type": "markdown",
   "metadata": {},
   "source": [
    "Use Foursquare API to get venues nearby neighborhoods. (need to use CLIENT_ID and CLIENT_SECRET)"
   ]
  },
  {
   "cell_type": "code",
   "execution_count": 22,
   "metadata": {},
   "outputs": [
    {
     "data": {
      "text/html": [
       "<div>\n",
       "<style scoped>\n",
       "    .dataframe tbody tr th:only-of-type {\n",
       "        vertical-align: middle;\n",
       "    }\n",
       "\n",
       "    .dataframe tbody tr th {\n",
       "        vertical-align: top;\n",
       "    }\n",
       "\n",
       "    .dataframe thead th {\n",
       "        text-align: right;\n",
       "    }\n",
       "</style>\n",
       "<table border=\"1\" class=\"dataframe\">\n",
       "  <thead>\n",
       "    <tr style=\"text-align: right;\">\n",
       "      <th></th>\n",
       "      <th>venue.name</th>\n",
       "      <th>venue.categories</th>\n",
       "      <th>venue.location.lat</th>\n",
       "      <th>venue.location.lng</th>\n",
       "    </tr>\n",
       "  </thead>\n",
       "  <tbody>\n",
       "    <tr>\n",
       "      <th>0</th>\n",
       "      <td>Brookbanks Park</td>\n",
       "      <td>[{'id': '4bf58dd8d48988d163941735', 'name': 'P...</td>\n",
       "      <td>43.751976</td>\n",
       "      <td>-79.332140</td>\n",
       "    </tr>\n",
       "    <tr>\n",
       "      <th>1</th>\n",
       "      <td>Variety Store</td>\n",
       "      <td>[{'id': '4bf58dd8d48988d1f9941735', 'name': 'F...</td>\n",
       "      <td>43.751974</td>\n",
       "      <td>-79.333114</td>\n",
       "    </tr>\n",
       "  </tbody>\n",
       "</table>\n",
       "</div>"
      ],
      "text/plain": [
       "        venue.name                                   venue.categories  \\\n",
       "0  Brookbanks Park  [{'id': '4bf58dd8d48988d163941735', 'name': 'P...   \n",
       "1    Variety Store  [{'id': '4bf58dd8d48988d1f9941735', 'name': 'F...   \n",
       "\n",
       "   venue.location.lat  venue.location.lng  \n",
       "0           43.751976          -79.332140  \n",
       "1           43.751974          -79.333114  "
      ]
     },
     "execution_count": 22,
     "metadata": {},
     "output_type": "execute_result"
    }
   ],
   "source": [
    "LIMIT = 100 \n",
    "radius = 500 \n",
    "neigh_lat = df_result.loc[0,\"Latitude\"]\n",
    "neigh_lon = df_result.loc[0,\"Longitude\"]\n",
    "url = 'https://api.foursquare.com/v2/venues/explore?&client_id={}&client_secret={}&v={}&ll={},{}&radius={}&limit={}'.format(\n",
    "    CLIENT_ID, \n",
    "    CLIENT_SECRET, \n",
    "    VERSION, \n",
    "    neigh_lat, \n",
    "    neigh_lon, \n",
    "    radius, \n",
    "    LIMIT)\n",
    "\n",
    "result = requests.get(url).json()\n",
    "from pandas import json_normalize\n",
    "venues = json_normalize(result['response']['groups'][0]['items'])\n",
    "venues = venues.loc[:,['venue.name', 'venue.categories', 'venue.location.lat', 'venue.location.lng']]\n",
    "venues.head()"
   ]
  },
  {
   "cell_type": "markdown",
   "metadata": {},
   "source": [
    "Get venue category."
   ]
  },
  {
   "cell_type": "code",
   "execution_count": 23,
   "metadata": {},
   "outputs": [
    {
     "data": {
      "text/html": [
       "<div>\n",
       "<style scoped>\n",
       "    .dataframe tbody tr th:only-of-type {\n",
       "        vertical-align: middle;\n",
       "    }\n",
       "\n",
       "    .dataframe tbody tr th {\n",
       "        vertical-align: top;\n",
       "    }\n",
       "\n",
       "    .dataframe thead th {\n",
       "        text-align: right;\n",
       "    }\n",
       "</style>\n",
       "<table border=\"1\" class=\"dataframe\">\n",
       "  <thead>\n",
       "    <tr style=\"text-align: right;\">\n",
       "      <th></th>\n",
       "      <th>venue.name</th>\n",
       "      <th>venue.categories</th>\n",
       "      <th>venue.location.lat</th>\n",
       "      <th>venue.location.lng</th>\n",
       "    </tr>\n",
       "  </thead>\n",
       "  <tbody>\n",
       "    <tr>\n",
       "      <th>0</th>\n",
       "      <td>Brookbanks Park</td>\n",
       "      <td>Park</td>\n",
       "      <td>43.751976</td>\n",
       "      <td>-79.332140</td>\n",
       "    </tr>\n",
       "    <tr>\n",
       "      <th>1</th>\n",
       "      <td>Variety Store</td>\n",
       "      <td>Food &amp; Drink Shop</td>\n",
       "      <td>43.751974</td>\n",
       "      <td>-79.333114</td>\n",
       "    </tr>\n",
       "  </tbody>\n",
       "</table>\n",
       "</div>"
      ],
      "text/plain": [
       "        venue.name   venue.categories  venue.location.lat  venue.location.lng\n",
       "0  Brookbanks Park               Park           43.751976          -79.332140\n",
       "1    Variety Store  Food & Drink Shop           43.751974          -79.333114"
      ]
     },
     "execution_count": 23,
     "metadata": {},
     "output_type": "execute_result"
    }
   ],
   "source": [
    "def get_category(row):\n",
    "    return row['venue.categories'][0]['name']\n",
    "venues['venue.categories']=venues.apply(get_category,axis=1)\n",
    "venues.head()"
   ]
  },
  {
   "cell_type": "markdown",
   "metadata": {},
   "source": [
    "Get venues for every neighborhood."
   ]
  },
  {
   "cell_type": "code",
   "execution_count": 24,
   "metadata": {},
   "outputs": [
    {
     "data": {
      "text/plain": [
       "[('Parkwoods', 43.7532586, -79.3296565, 'Brookbanks Park', 'Park'),\n",
       " ('Parkwoods', 43.7532586, -79.3296565, 'Variety Store', 'Food & Drink Shop'),\n",
       " ('Victoria Village',\n",
       "  43.725882299999995,\n",
       "  -79.31557159999998,\n",
       "  'Victoria Village Arena',\n",
       "  'Hockey Arena'),\n",
       " ('Victoria Village',\n",
       "  43.725882299999995,\n",
       "  -79.31557159999998,\n",
       "  'Tim Hortons',\n",
       "  'Coffee Shop'),\n",
       " ('Victoria Village',\n",
       "  43.725882299999995,\n",
       "  -79.31557159999998,\n",
       "  'Portugril',\n",
       "  'Portuguese Restaurant')]"
      ]
     },
     "execution_count": 24,
     "metadata": {},
     "output_type": "execute_result"
    }
   ],
   "source": [
    "venues_list = []\n",
    "for index, row in df_result.iterrows():\n",
    "    neigh_lat = row[\"Latitude\"]\n",
    "    neigh_lon = row[\"Longitude\"]\n",
    "    url = 'https://api.foursquare.com/v2/venues/explore?&client_id={}&client_secret={}&v={}&ll={},{}&radius={}&limit={}'.format(\n",
    "        CLIENT_ID, \n",
    "        CLIENT_SECRET, \n",
    "        VERSION, \n",
    "        neigh_lat, \n",
    "        neigh_lon, \n",
    "        radius, \n",
    "        LIMIT)\n",
    "    result = requests.get(url).json()\n",
    "    try:\n",
    "        venues = json_normalize(result['response']['groups'][0]['items'])\n",
    "    except:\n",
    "        continue\n",
    "    if venues.empty:\n",
    "        continue\n",
    "    venues = venues.loc[:,['venue.name', 'venue.categories', 'venue.location.lat', 'venue.location.lng']]\n",
    "    venues['venue.categories']=venues.apply(get_category,axis=1)\n",
    "    for index2, row_venues in venues.iterrows():\n",
    "        venues_list.append((row['Neighborhood'], row[\"Latitude\"], row[\"Longitude\"], row_venues['venue.name'], row_venues['venue.categories']))\n",
    "venues_list[0:5]"
   ]
  },
  {
   "cell_type": "markdown",
   "metadata": {},
   "source": [
    "Get one hot representation of categories per venue and group by neighborhood getting a mean."
   ]
  },
  {
   "cell_type": "code",
   "execution_count": 25,
   "metadata": {},
   "outputs": [
    {
     "data": {
      "text/plain": [
       "(96, 274)"
      ]
     },
     "execution_count": 25,
     "metadata": {},
     "output_type": "execute_result"
    }
   ],
   "source": [
    "venues_df = pd.DataFrame(venues_list)\n",
    "venues_df.columns = ['Neighborhood', 'Latitude', 'Longitude', 'Venue', 'Category']\n",
    "venues_onehot = pd.get_dummies(venues_df[['Category']])\n",
    "venues_onehot['Neighborhood'] = venues_df['Neighborhood']\n",
    "venues_grouped = venues_onehot.groupby('Neighborhood').mean().reset_index()\n",
    "venues_grouped.shape"
   ]
  },
  {
   "cell_type": "markdown",
   "metadata": {},
   "source": [
    "K-means clustering on mean frequency of category."
   ]
  },
  {
   "cell_type": "code",
   "execution_count": 29,
   "metadata": {},
   "outputs": [
    {
     "data": {
      "text/plain": [
       "array([0, 4, 0, 0, 0, 0, 0, 0, 0, 0], dtype=int32)"
      ]
     },
     "execution_count": 29,
     "metadata": {},
     "output_type": "execute_result"
    }
   ],
   "source": [
    "from sklearn.cluster import KMeans\n",
    "kclusters=5\n",
    "venues_clustering = venues_grouped.drop('Neighborhood',1)\n",
    "kmeans = KMeans(n_clusters = kclusters)\n",
    "kmeans.fit(venues_clustering)\n",
    "kmeans.labels_[0:10]"
   ]
  },
  {
   "cell_type": "markdown",
   "metadata": {},
   "source": [
    "Get labels on dataframe with long/lat."
   ]
  },
  {
   "cell_type": "code",
   "execution_count": 30,
   "metadata": {},
   "outputs": [
    {
     "data": {
      "text/html": [
       "<div>\n",
       "<style scoped>\n",
       "    .dataframe tbody tr th:only-of-type {\n",
       "        vertical-align: middle;\n",
       "    }\n",
       "\n",
       "    .dataframe tbody tr th {\n",
       "        vertical-align: top;\n",
       "    }\n",
       "\n",
       "    .dataframe thead th {\n",
       "        text-align: right;\n",
       "    }\n",
       "</style>\n",
       "<table border=\"1\" class=\"dataframe\">\n",
       "  <thead>\n",
       "    <tr style=\"text-align: right;\">\n",
       "      <th></th>\n",
       "      <th>Neighborhood</th>\n",
       "      <th>Latitude</th>\n",
       "      <th>Longitude</th>\n",
       "      <th>Cluster</th>\n",
       "    </tr>\n",
       "  </thead>\n",
       "  <tbody>\n",
       "    <tr>\n",
       "      <th>0</th>\n",
       "      <td>Parkwoods</td>\n",
       "      <td>43.753259</td>\n",
       "      <td>-79.329656</td>\n",
       "      <td>2</td>\n",
       "    </tr>\n",
       "    <tr>\n",
       "      <th>1</th>\n",
       "      <td>Victoria Village</td>\n",
       "      <td>43.725882</td>\n",
       "      <td>-79.315572</td>\n",
       "      <td>0</td>\n",
       "    </tr>\n",
       "    <tr>\n",
       "      <th>2</th>\n",
       "      <td>Regent Park, Harbourfront</td>\n",
       "      <td>43.654260</td>\n",
       "      <td>-79.360636</td>\n",
       "      <td>0</td>\n",
       "    </tr>\n",
       "    <tr>\n",
       "      <th>3</th>\n",
       "      <td>Lawrence Manor, Lawrence Heights</td>\n",
       "      <td>43.718518</td>\n",
       "      <td>-79.464763</td>\n",
       "      <td>0</td>\n",
       "    </tr>\n",
       "    <tr>\n",
       "      <th>4</th>\n",
       "      <td>Queen's Park, Ontario Provincial Government</td>\n",
       "      <td>43.662301</td>\n",
       "      <td>-79.389494</td>\n",
       "      <td>0</td>\n",
       "    </tr>\n",
       "    <tr>\n",
       "      <th>5</th>\n",
       "      <td>Malvern, Rouge</td>\n",
       "      <td>43.806686</td>\n",
       "      <td>-79.194353</td>\n",
       "      <td>3</td>\n",
       "    </tr>\n",
       "    <tr>\n",
       "      <th>6</th>\n",
       "      <td>Don Mills</td>\n",
       "      <td>43.745906</td>\n",
       "      <td>-79.352188</td>\n",
       "      <td>0</td>\n",
       "    </tr>\n",
       "    <tr>\n",
       "      <th>7</th>\n",
       "      <td>Don Mills</td>\n",
       "      <td>43.725900</td>\n",
       "      <td>-79.340923</td>\n",
       "      <td>0</td>\n",
       "    </tr>\n",
       "    <tr>\n",
       "      <th>8</th>\n",
       "      <td>Parkview Hill, Woodbine Gardens</td>\n",
       "      <td>43.706397</td>\n",
       "      <td>-79.309937</td>\n",
       "      <td>0</td>\n",
       "    </tr>\n",
       "    <tr>\n",
       "      <th>9</th>\n",
       "      <td>Garden District, Ryerson</td>\n",
       "      <td>43.657162</td>\n",
       "      <td>-79.378937</td>\n",
       "      <td>0</td>\n",
       "    </tr>\n",
       "  </tbody>\n",
       "</table>\n",
       "</div>"
      ],
      "text/plain": [
       "                                  Neighborhood   Latitude  Longitude  Cluster\n",
       "0                                    Parkwoods  43.753259 -79.329656        2\n",
       "1                             Victoria Village  43.725882 -79.315572        0\n",
       "2                    Regent Park, Harbourfront  43.654260 -79.360636        0\n",
       "3             Lawrence Manor, Lawrence Heights  43.718518 -79.464763        0\n",
       "4  Queen's Park, Ontario Provincial Government  43.662301 -79.389494        0\n",
       "5                               Malvern, Rouge  43.806686 -79.194353        3\n",
       "6                                    Don Mills  43.745906 -79.352188        0\n",
       "7                                    Don Mills  43.725900 -79.340923        0\n",
       "8              Parkview Hill, Woodbine Gardens  43.706397 -79.309937        0\n",
       "9                     Garden District, Ryerson  43.657162 -79.378937        0"
      ]
     },
     "execution_count": 30,
     "metadata": {},
     "output_type": "execute_result"
    }
   ],
   "source": [
    "venues_grouped['Cluster'] = kmeans.labels_\n",
    "neighborhood_clustered = pd.merge(df_result,venues_grouped, on=\"Neighborhood\")\n",
    "columns = ['Neighborhood', 'Latitude', 'Longitude', 'Cluster']\n",
    "neighborhood_clustered = neighborhood_clustered.loc[:,columns]\n",
    "neighborhood_clustered.head(10)"
   ]
  },
  {
   "cell_type": "markdown",
   "metadata": {},
   "source": [
    "Draw neighborhoods on map."
   ]
  },
  {
   "cell_type": "code",
   "execution_count": 19,
   "metadata": {},
   "outputs": [
    {
     "name": "stdout",
     "output_type": "stream",
     "text": [
      "Collecting package metadata (current_repodata.json): done\n",
      "Solving environment: done\n",
      "\n",
      "## Package Plan ##\n",
      "\n",
      "  environment location: /home/vininim/anaconda3\n",
      "\n",
      "  added / updated specs:\n",
      "    - folium\n",
      "\n",
      "\n",
      "The following packages will be downloaded:\n",
      "\n",
      "    package                    |            build\n",
      "    ---------------------------|-----------------\n",
      "    folium-0.11.0              |             py_0          61 KB  conda-forge\n",
      "    ------------------------------------------------------------\n",
      "                                           Total:          61 KB\n",
      "\n",
      "The following packages will be UPDATED:\n",
      "\n",
      "  folium                                         0.5.0-py_0 --> 0.11.0-py_0\n",
      "\n",
      "The following packages will be SUPERSEDED by a higher-priority channel:\n",
      "\n",
      "  conda               pkgs/main::conda-4.9.2-py37h06a4308_0 --> conda-forge::conda-4.9.2-py37h89c1867_0\n",
      "\n",
      "\n",
      "\n",
      "Downloading and Extracting Packages\n",
      "folium-0.11.0        | 61 KB     | ##################################### | 100% \n",
      "Preparing transaction: done\n",
      "Verifying transaction: done\n",
      "Executing transaction: done\n"
     ]
    }
   ],
   "source": [
    "!conda install -c conda-forge folium --yes"
   ]
  },
  {
   "cell_type": "code",
   "execution_count": 31,
   "metadata": {},
   "outputs": [
    {
     "data": {
      "text/html": [
       "<div style=\"width:100%;\"><div style=\"position:relative;width:100%;height:0;padding-bottom:60%;\"><span style=\"color:#565656\">Make this Notebook Trusted to load map: File -> Trust Notebook</span><iframe src=\"about:blank\" style=\"position:absolute;width:100%;height:100%;left:0;top:0;border:none !important;\" data-html=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 onload=\"this.contentDocument.open();this.contentDocument.write(atob(this.getAttribute('data-html')));this.contentDocument.close();\" allowfullscreen webkitallowfullscreen mozallowfullscreen></iframe></div></div>"
      ],
      "text/plain": [
       "<folium.folium.Map at 0x7fdff9e38750>"
      ]
     },
     "execution_count": 31,
     "metadata": {},
     "output_type": "execute_result"
    }
   ],
   "source": [
    "toronto_latitude=43.6532\n",
    "toronto_longitude=-79.3832\n",
    "import folium\n",
    "import matplotlib.cm as cm\n",
    "import matplotlib.colors as colors\n",
    "\n",
    "map_tor = folium.Map(location=[toronto_latitude,toronto_longitude],zoom_start=11)\n",
    "\n",
    "colors_array = cm.rainbow(np.linspace(0,1,kclusters))\n",
    "rainbow = [colors.rgb2hex(i) for i in colors_array]\n",
    "\n",
    "for lat, long, name, cluster in zip(neighborhood_clustered['Latitude'],neighborhood_clustered['Longitude'],neighborhood_clustered['Neighborhood'], neighborhood_clustered['Cluster']):\n",
    "    label = folium.Popup(str(name) + ' Cluster ' + str(cluster),parse_html=True)\n",
    "    folium.CircleMarker(\n",
    "        [lat,long],\n",
    "        radius=5,\n",
    "        popup=label,\n",
    "        color=rainbow[cluster],\n",
    "        fill=True,\n",
    "        fill_color=rainbow[cluster],\n",
    "        fill_opacity=0.7\n",
    "    ).add_to(map_tor)\n",
    "    \n",
    "map_tor"
   ]
  },
  {
   "cell_type": "code",
   "execution_count": null,
   "metadata": {},
   "outputs": [],
   "source": []
  }
 ],
 "metadata": {
  "kernelspec": {
   "display_name": "Python 3",
   "language": "python",
   "name": "python3"
  },
  "language_info": {
   "codemirror_mode": {
    "name": "ipython",
    "version": 3
   },
   "file_extension": ".py",
   "mimetype": "text/x-python",
   "name": "python",
   "nbconvert_exporter": "python",
   "pygments_lexer": "ipython3",
   "version": "3.7.6"
  }
 },
 "nbformat": 4,
 "nbformat_minor": 1
}
